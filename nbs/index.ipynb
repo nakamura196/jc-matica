{
 "cells": [
  {
   "cell_type": "code",
   "execution_count": null,
   "metadata": {},
   "outputs": [],
   "source": [
    "#| hide\n",
    "from jc_matica.core import *"
   ]
  },
  {
   "cell_type": "markdown",
   "metadata": {},
   "source": [
    "# jc-matica\n",
    "\n",
    "> "
   ]
  },
  {
   "cell_type": "markdown",
   "metadata": {},
   "source": [
    "WEKOで公開されているデータからAIPを作成するツール"
   ]
  },
  {
   "cell_type": "markdown",
   "metadata": {},
   "source": [
    "## Developer Guide"
   ]
  },
  {
   "cell_type": "markdown",
   "metadata": {},
   "source": [
    "If you are new to using `nbdev` here are some useful pointers to get you started."
   ]
  },
  {
   "cell_type": "markdown",
   "metadata": {},
   "source": [
    "### Install jc_matica in Development mode"
   ]
  },
  {
   "cell_type": "markdown",
   "metadata": {},
   "source": [
    "```sh\n",
    "# make sure jc_matica package is installed in development mode\n",
    "$ pip install -e .\n",
    "\n",
    "# make changes under nbs/ directory\n",
    "# ...\n",
    "\n",
    "# compile to have changes apply to jc_matica\n",
    "$ nbdev_prepare\n",
    "```"
   ]
  },
  {
   "cell_type": "markdown",
   "metadata": {},
   "source": [
    "## Usage"
   ]
  },
  {
   "cell_type": "markdown",
   "metadata": {},
   "source": [
    "### Installation"
   ]
  },
  {
   "cell_type": "markdown",
   "metadata": {},
   "source": [
    "Install latest from the GitHub [repository][repo]:\n",
    "\n",
    "```sh\n",
    "$ pip install git+https://github.com/nakamura196/jc-matica.git\n",
    "```\n",
    "\n",
    "\n",
    "[repo]: https://github.com/nakamura196/jc-matica\n",
    "[docs]: https://nakamura196.github.io/jc-matica/\n",
    "[pypi]: https://pypi.org/project/jc-matica/\n",
    "[conda]: https://anaconda.org/nakamura196/jc-matica"
   ]
  },
  {
   "cell_type": "markdown",
   "metadata": {},
   "source": [
    "### Documentation"
   ]
  },
  {
   "cell_type": "markdown",
   "metadata": {},
   "source": [
    "Documentation can be found hosted on this GitHub [repository][repo]'s [pages][docs].\n",
    "\n",
    "[repo]: https://github.com/nakamura196/jc-matica\n",
    "[docs]: https://nakamura196.github.io/jc-matica/"
   ]
  },
  {
   "cell_type": "markdown",
   "metadata": {},
   "source": [
    "## How to use"
   ]
  },
  {
   "cell_type": "markdown",
   "metadata": {},
   "source": [
    "Prepare `.env` file:"
   ]
  },
  {
   "cell_type": "markdown",
   "metadata": {},
   "source": [
    "```txt\n",
    "# Archivematicaの設定\n",
    "DASHBOARD_URL=http://localhost:62080\n",
    "DASHBOARD_USERNAME=test\n",
    "DASHBOARD_API_KEY=test\n",
    "\n",
    "STORAGE_SERVICE_URL=http://localhost:62081\n",
    "STORAGE_SERVICE_USERNAME=test\n",
    "STORAGE_SERVICE_PASSWORD=test\n",
    "\n",
    "LOCATION_UUID=624454a4-1555-4a0f-ba6b-969452966cd4\n",
    "PROCESSING_CONFIG=mdx\n",
    "\n",
    "# オブジェクトストレージの設定\n",
    "AWS_ACCESS_KEY_ID=\n",
    "AWS_SECRET_ACCESS_KEY=\n",
    "\n",
    "OS_ENDPOINT=https://s3ds.mdx.jp\n",
    "OS_BUCKET_NAME=\n",
    "OS_AIP_PREFIX=aip_storage\n",
    "OS_TRANSFER_PREFIX=transfer_source/jc\n",
    "```"
   ]
  },
  {
   "cell_type": "markdown",
   "metadata": {},
   "source": [
    "Pip install:\n",
    "\n",
    "```bash\n",
    "pip install https://github.com/nakamura196/archivematica_tools.git\n",
    "```"
   ]
  },
  {
   "cell_type": "markdown",
   "metadata": {},
   "source": [
    "Create AIP with Archivematica:"
   ]
  },
  {
   "cell_type": "markdown",
   "metadata": {},
   "source": [
    "```python\n",
    "from jc_matica.core import ApiClient\n",
    "from archivematica_tools.api import ArchivematicaAPIClient\n",
    "from archivematica_tools.vis import VisClient\n",
    "from dotenv import load_dotenv\n",
    "import os\n",
    "\n",
    "load_dotenv(override=True)\n",
    "\n",
    "# https://kanazawa-u.repo.nii.ac.jp/records/26572\n",
    "prefix = \"kanazawa-u\"\n",
    "id = \"26572\"\n",
    "output_dir = f\"./data\"\n",
    "transfer_type = \"standard\"\n",
    "transfer_accession = \"\"\n",
    "location_uuid = os.getenv(\"LOCATION_UUID\")\n",
    "processing_config = os.getenv(\"PROCESSING_CONFIG\")\n",
    "\n",
    "## Upload Dataset to S3 compatible storage\n",
    "client = ApiClient()\n",
    "client.upload(prefix, id, output_dir)\n",
    "\n",
    "## Create AIP with Archivematica\n",
    "path = f\"jc/{prefix}_{id}\"\n",
    "name = f\"{prefix}_{id}\"\n",
    "\n",
    "sip_uuid = ArchivematicaAPIClient.main(transfer_type, transfer_accession, location_uuid, path, name, processing_config, env_path=env_path)\n",
    "\n",
    "## Visualize AIP\n",
    "res = VisClient.main(sip_uuid)\n",
    "res.get_original_files()\n",
    "res.visualize_file_format_counts()\n",
    "res.visualize_file_events_count()\n",
    "res.parse_file_sec()\n",
    "res.visualize_structMap()\n",
    "```"
   ]
  },
  {
   "cell_type": "markdown",
   "metadata": {},
   "source": []
  },
  {
   "cell_type": "markdown",
   "metadata": {},
   "source": []
  }
 ],
 "metadata": {
  "kernelspec": {
   "display_name": "python3",
   "language": "python",
   "name": "python3"
  }
 },
 "nbformat": 4,
 "nbformat_minor": 4
}
