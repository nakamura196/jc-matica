{
 "cells": [
  {
   "cell_type": "markdown",
   "metadata": {},
   "source": [
    "# core"
   ]
  },
  {
   "cell_type": "code",
   "execution_count": null,
   "metadata": {},
   "outputs": [],
   "source": [
    "#| default_exp core"
   ]
  },
  {
   "cell_type": "code",
   "execution_count": null,
   "metadata": {},
   "outputs": [],
   "source": [
    "#| hide\n",
    "from nbdev.showdoc import *"
   ]
  },
  {
   "cell_type": "code",
   "execution_count": null,
   "metadata": {},
   "outputs": [],
   "source": [
    "#| export\n",
    "import requests\n",
    "import os\n",
    "from bs4 import BeautifulSoup\n",
    "import pandas as pd\n",
    "import boto3\n",
    "from dotenv import load_dotenv\n",
    "from botocore.config import Config\n",
    "from tqdm import tqdm"
   ]
  },
  {
   "cell_type": "code",
   "execution_count": null,
   "metadata": {},
   "outputs": [],
   "source": [
    "#| export\n",
    "class ApiClient:\n",
    "    \"\"\"\n",
    "    API Client for Archivematica\n",
    "\n",
    "    Args:\n",
    "        env_path: Path to the environment variables file\n",
    "    \"\"\"\n",
    "    def __init__(self, env_path: str = \".env\"):\n",
    "        load_dotenv(override=True, dotenv_path=env_path)\n",
    "\n",
    "    def upload(self, prefix, id, output_dir):\n",
    "        \"\"\"\n",
    "        Upload an AIP to Archivematica\n",
    "\n",
    "        Args:\n",
    "            prefix: The prefix of the repository\n",
    "            id: The ID of the record\n",
    "\n",
    "            output_dir: The directory to save the AIP\n",
    "        \"\"\"\n",
    "        url = f\"https://{prefix}.repo.nii.ac.jp/records/{id}/export/json\"\n",
    "\n",
    "        response = requests.get(url)\n",
    "\n",
    "        data = response.json()\n",
    "\n",
    "        attribute_value_mlt_list = data[\"metadata\"][\"item_files\"][\"attribute_value_mlt\"]\n",
    "\n",
    "        filenames = []\n",
    "\n",
    "        output_item_dir = f\"{output_dir}/{prefix}_{id}\"\n",
    "\n",
    "        for file in attribute_value_mlt_list:\n",
    "            url = file[\"url\"][\"url\"]\n",
    "            label = file[\"version_id\"] + \".\" + file[\"filename\"].split(\".\")[-1]\n",
    "\n",
    "            opath = f\"{output_item_dir}/{label}\"\n",
    "\n",
    "            os.makedirs(os.path.dirname(opath), exist_ok=True)\n",
    "\n",
    "            with open(opath, \"wb\") as f:\n",
    "\n",
    "                # download file\n",
    "                response = requests.get(url)\n",
    "                f.write(response.content)\n",
    "\n",
    "                filenames.append(label)\n",
    "\n",
    "        oai_url = f\"https://{prefix}.repo.nii.ac.jp/oai?verb=GetRecord&metadataPrefix=oai_dc&identifier=oai:{prefix}.repo.nii.ac.jp:{id.zfill(8)}\"\n",
    "\n",
    "\n",
    "        response = requests.get(oai_url)\n",
    "\n",
    "        soup = BeautifulSoup(response.text, \"xml\")\n",
    "\n",
    "\n",
    "        record = soup.find(\"record\")\n",
    "\n",
    "\n",
    "        oai_dc = record.find(\"oai_dc:dc\")\n",
    "\n",
    "        children = oai_dc.findChildren()\n",
    "\n",
    "        mappings = {}\n",
    "\n",
    "        for child in children:\n",
    "\n",
    "            name = child.name\n",
    "            text = child.text\n",
    "\n",
    "            if name not in mappings:\n",
    "                mappings[name] = []\n",
    "\n",
    "            mappings[name].append(text)\n",
    "\n",
    "        rows = []\n",
    "\n",
    "        for filename in filenames:\n",
    "            row = {\n",
    "                \"filename\": f\"objects/{filename}\"\n",
    "            }\n",
    "\n",
    "            for name, texts in mappings.items():\n",
    "                row[f\"dc.{name}\"] = \"|\".join(texts)\n",
    "\n",
    "            rows.append(row)\n",
    "\n",
    "        df = pd.DataFrame(rows)\n",
    "\n",
    "        opath = f\"{output_item_dir}/metadata/metadata.csv\"\n",
    "\n",
    "        os.makedirs(os.path.dirname(opath), exist_ok=True)\n",
    "\n",
    "        df.to_csv(opath, index=False)\n",
    "\n",
    "        \n",
    "\n",
    "        s3 = boto3.client(\n",
    "            \"s3\",\n",
    "            endpoint_url=\"https://s3ds.mdx.jp\",\n",
    "            aws_access_key_id=os.getenv(\"AWS_ACCESS_KEY_ID\"),\n",
    "            aws_secret_access_key=os.getenv(\"AWS_SECRET_ACCESS_KEY\"),\n",
    "            config=Config(\n",
    "                # signature_version='s3v4',\n",
    "                s3={\n",
    "                    'response_checksum_validation': 'when_required',\n",
    "                    'request_checksum_calculation': 'when_required'\n",
    "                }\n",
    "            )\n",
    "        )\n",
    "\n",
    "        key_dir = os.getenv(\"OS_TRANSFER_PREFIX\")\n",
    "        bucket_name = os.getenv(\"OS_BUCKET_NAME\")\n",
    "\n",
    "        objects = [\n",
    "            opath\n",
    "        ]\n",
    "\n",
    "        \n",
    "\n",
    "        for filename in filenames:\n",
    "            opath = f\"{output_item_dir}/{filename}\"\n",
    "            objects.append(opath)\n",
    "\n",
    "        for opath in tqdm(objects):\n",
    "\n",
    "            s3.upload_file(\n",
    "                opath,\n",
    "                bucket_name,\n",
    "                opath.replace(output_dir, key_dir)\n",
    "            )"
   ]
  },
  {
   "cell_type": "code",
   "execution_count": null,
   "metadata": {},
   "outputs": [
    {
     "data": {
      "text/markdown": [
       "---\n",
       "\n",
       "[source](https://github.com/nakamura196/jc-matica/blob/main/jc_matica/core.py#L16){target=\"_blank\" style=\"float:right; font-size:smaller\"}\n",
       "\n",
       "### ApiClient\n",
       "\n",
       ">      ApiClient (env_path:str='.env')\n",
       "\n",
       "*API Client for Archivematica\n",
       "\n",
       "Args:\n",
       "    env_path: Path to the environment variables file*"
      ],
      "text/plain": [
       "---\n",
       "\n",
       "[source](https://github.com/nakamura196/jc-matica/blob/main/jc_matica/core.py#L16){target=\"_blank\" style=\"float:right; font-size:smaller\"}\n",
       "\n",
       "### ApiClient\n",
       "\n",
       ">      ApiClient (env_path:str='.env')\n",
       "\n",
       "*API Client for Archivematica\n",
       "\n",
       "Args:\n",
       "    env_path: Path to the environment variables file*"
      ]
     },
     "execution_count": null,
     "metadata": {},
     "output_type": "execute_result"
    }
   ],
   "source": [
    "show_doc(ApiClient)"
   ]
  },
  {
   "cell_type": "code",
   "execution_count": null,
   "metadata": {},
   "outputs": [
    {
     "data": {
      "text/markdown": [
       "---\n",
       "\n",
       "[source](https://github.com/nakamura196/jc-matica/blob/main/jc_matica/core.py#L26){target=\"_blank\" style=\"float:right; font-size:smaller\"}\n",
       "\n",
       "### ApiClient.upload\n",
       "\n",
       ">      ApiClient.upload (prefix, id, output_dir)\n",
       "\n",
       "*Upload an AIP to Archivematica\n",
       "\n",
       "Args:\n",
       "    prefix: The prefix of the repository\n",
       "    id: The ID of the record\n",
       "\n",
       "    output_dir: The directory to save the AIP*"
      ],
      "text/plain": [
       "---\n",
       "\n",
       "[source](https://github.com/nakamura196/jc-matica/blob/main/jc_matica/core.py#L26){target=\"_blank\" style=\"float:right; font-size:smaller\"}\n",
       "\n",
       "### ApiClient.upload\n",
       "\n",
       ">      ApiClient.upload (prefix, id, output_dir)\n",
       "\n",
       "*Upload an AIP to Archivematica\n",
       "\n",
       "Args:\n",
       "    prefix: The prefix of the repository\n",
       "    id: The ID of the record\n",
       "\n",
       "    output_dir: The directory to save the AIP*"
      ]
     },
     "execution_count": null,
     "metadata": {},
     "output_type": "execute_result"
    }
   ],
   "source": [
    "show_doc(ApiClient.upload)"
   ]
  },
  {
   "cell_type": "code",
   "execution_count": null,
   "metadata": {},
   "outputs": [],
   "source": [
    "#| hide\n",
    "import nbdev; nbdev.nbdev_export()"
   ]
  }
 ],
 "metadata": {
  "kernelspec": {
   "display_name": "python3",
   "language": "python",
   "name": "python3"
  }
 },
 "nbformat": 4,
 "nbformat_minor": 4
}
