{
 "cells": [
  {
   "cell_type": "code",
   "execution_count": 24,
   "metadata": {},
   "outputs": [],
   "source": [
    "%reload_ext autoreload\n",
    "%autoreload 2\n",
    "from jc_matica.core import ApiClient\n",
    "from archivematica_tools.api import ArchivematicaAPIClient\n",
    "from archivematica_tools.vis import VisClient"
   ]
  },
  {
   "cell_type": "code",
   "execution_count": 25,
   "metadata": {},
   "outputs": [],
   "source": [
    "prefix = \"kanazawa-u\"\n",
    "\n",
    "# id = \"26572\"\n",
    "id = \"26550\"\n",
    "\n",
    "output_dir = f\"./data\"\n",
    "\n",
    "transfer_type = \"standard\"\n",
    "transfer_accession = \"\"\n",
    "location_uuid = \"624454a4-1555-4a0f-ba6b-969452966cd4\"\n",
    "# path = \"test\"\n",
    "# path = \"AIPtest_for_PNG\"\n",
    "# name = \"transfer v2 demo\"\n",
    "processing_config = \"mdx\"\n",
    "\n",
    "env_path = \".env\"\n",
    "\n",
    "\n",
    "\n",
    "# url = f\"https://{prefix}.repo.nii.ac.jp/records/{id}/export/json\""
   ]
  },
  {
   "cell_type": "code",
   "execution_count": 26,
   "metadata": {},
   "outputs": [
    {
     "name": "stdout",
     "output_type": "stream",
     "text": [
      "None\n"
     ]
    }
   ],
   "source": [
    "client = ApiClient(env_path=env_path)\n",
    "client.upload(prefix, id, output_dir)"
   ]
  },
  {
   "cell_type": "markdown",
   "metadata": {},
   "source": []
  },
  {
   "cell_type": "code",
   "execution_count": 27,
   "metadata": {},
   "outputs": [],
   "source": [
    "path = f\"jc/{prefix}_{id}\"\n",
    "name = f\"{prefix}_{id}\""
   ]
  },
  {
   "cell_type": "code",
   "execution_count": 28,
   "metadata": {},
   "outputs": [
    {
     "name": "stdout",
     "output_type": "stream",
     "text": [
      "transfer ...\n"
     ]
    },
    {
     "ename": "KeyboardInterrupt",
     "evalue": "",
     "output_type": "error",
     "traceback": [
      "\u001b[31m---------------------------------------------------------------------------\u001b[39m",
      "\u001b[31mKeyboardInterrupt\u001b[39m                         Traceback (most recent call last)",
      "\u001b[36mCell\u001b[39m\u001b[36m \u001b[39m\u001b[32mIn[28]\u001b[39m\u001b[32m, line 1\u001b[39m\n\u001b[32m----> \u001b[39m\u001b[32m1\u001b[39m sip_uuid = \u001b[43mArchivematicaAPIClient\u001b[49m\u001b[43m.\u001b[49m\u001b[43mmain\u001b[49m\u001b[43m(\u001b[49m\u001b[43mtransfer_type\u001b[49m\u001b[43m,\u001b[49m\u001b[43m \u001b[49m\u001b[43mtransfer_accession\u001b[49m\u001b[43m,\u001b[49m\u001b[43m \u001b[49m\u001b[43mlocation_uuid\u001b[49m\u001b[43m,\u001b[49m\u001b[43m \u001b[49m\u001b[43mpath\u001b[49m\u001b[43m,\u001b[49m\u001b[43m \u001b[49m\u001b[43mname\u001b[49m\u001b[43m,\u001b[49m\u001b[43m \u001b[49m\u001b[43mprocessing_config\u001b[49m\u001b[43m,\u001b[49m\u001b[43m \u001b[49m\u001b[43menv_path\u001b[49m\u001b[43m=\u001b[49m\u001b[43menv_path\u001b[49m\u001b[43m)\u001b[49m\n",
      "\u001b[36mFile \u001b[39m\u001b[32m~/git/kim/archivematica_tools/archivematica_tools/api.py:352\u001b[39m, in \u001b[36mArchivematicaAPIClient.main\u001b[39m\u001b[34m(transfer_type, transfer_accession, location_uuid, path, name, processing_config, env_path)\u001b[39m\n\u001b[32m    349\u001b[39m client = ArchivematicaAPIClient(dashboard_url, dashboard_username, dashboard_api_key, storage_service_url, storage_service_username, storage_service_password)\n\u001b[32m    351\u001b[39m transfer_UUID = client.v2beta_package(transfer_type, transfer_accession, location_uuid, path, name, processing_config)\n\u001b[32m--> \u001b[39m\u001b[32m352\u001b[39m sip_uuid = \u001b[43mclient\u001b[49m\u001b[43m.\u001b[49m\u001b[43mcheck_status\u001b[49m\u001b[43m(\u001b[49m\u001b[43mtransfer_UUID\u001b[49m\u001b[43m)\u001b[49m\n\u001b[32m    354\u001b[39m \u001b[38;5;28;01mreturn\u001b[39;00m sip_uuid\n",
      "\u001b[36mFile \u001b[39m\u001b[32m~/git/kim/archivematica_tools/archivematica_tools/api.py:312\u001b[39m, in \u001b[36mArchivematicaAPIClient.check_status\u001b[39m\u001b[34m(self, transfer_UUID)\u001b[39m\n\u001b[32m    302\u001b[39m \u001b[38;5;250m\u001b[39m\u001b[33;03m\"\"\"\u001b[39;00m\n\u001b[32m    303\u001b[39m \u001b[33;03mChecks the status of a file transfer until it is no longer processing.\u001b[39;00m\n\u001b[32m    304\u001b[39m \n\u001b[32m   (...)\u001b[39m\u001b[32m    309\u001b[39m \u001b[33;03m    The UUID of the ingested AIP.\u001b[39;00m\n\u001b[32m    310\u001b[39m \u001b[33;03m\"\"\"\u001b[39;00m\n\u001b[32m    311\u001b[39m \u001b[38;5;28mprint\u001b[39m(\u001b[33m\"\u001b[39m\u001b[33mtransfer ...\u001b[39m\u001b[33m\"\u001b[39m)\n\u001b[32m--> \u001b[39m\u001b[32m312\u001b[39m sip_uuid = \u001b[38;5;28;43mself\u001b[39;49m\u001b[43m.\u001b[49m\u001b[43mcheck_transfer_status\u001b[49m\u001b[43m(\u001b[49m\u001b[43mtransfer_UUID\u001b[49m\u001b[43m)\u001b[49m\n\u001b[32m    314\u001b[39m \u001b[38;5;28mprint\u001b[39m(\u001b[33m\"\u001b[39m\u001b[33mingest ...\u001b[39m\u001b[33m\"\u001b[39m)\n\u001b[32m    315\u001b[39m \u001b[38;5;28mself\u001b[39m.ingest(sip_uuid)\n",
      "\u001b[36mFile \u001b[39m\u001b[32m~/git/kim/archivematica_tools/archivematica_tools/api.py:116\u001b[39m, in \u001b[36mArchivematicaAPIClient.check_transfer_status\u001b[39m\u001b[34m(self, transfer_UUID)\u001b[39m\n\u001b[32m    114\u001b[39m         \u001b[38;5;28mself\u001b[39m.sip_uuid = r[\u001b[33m\"\u001b[39m\u001b[33msip_uuid\u001b[39m\u001b[33m\"\u001b[39m]\n\u001b[32m    115\u001b[39m         \u001b[38;5;28;01mbreak\u001b[39;00m\n\u001b[32m--> \u001b[39m\u001b[32m116\u001b[39m     time.sleep(\u001b[38;5;28mself\u001b[39m.TIME_SPAN)\n\u001b[32m    117\u001b[39m \u001b[38;5;28;01mreturn\u001b[39;00m \u001b[38;5;28mself\u001b[39m.sip_uuid\n",
      "\u001b[31mKeyboardInterrupt\u001b[39m: "
     ]
    }
   ],
   "source": [
    "sip_uuid = ArchivematicaAPIClient.main(transfer_type, transfer_accession, location_uuid, path, name, processing_config, env_path=env_path)"
   ]
  },
  {
   "cell_type": "code",
   "execution_count": null,
   "metadata": {},
   "outputs": [
    {
     "name": "stdout",
     "output_type": "stream",
     "text": [
      "ファイル ./zip_dir/kanazawa-u_26572-494a4883-780c-4007-9c80-984504ca48f0.7z をダウンロードしました。\n",
      "ファイルを ./extracted_files に展開しました。\n"
     ]
    },
    {
     "ename": "",
     "evalue": "",
     "output_type": "error",
     "traceback": [
      "\u001b[1;31mnotebook controller is DISPOSED. \n",
      "\u001b[1;31m詳細については、Jupyter [ログ] (command:jupyter.viewOutput) を参照してください。"
     ]
    },
    {
     "ename": "",
     "evalue": "",
     "output_type": "error",
     "traceback": [
      "\u001b[1;31mnotebook controller is DISPOSED. \n",
      "\u001b[1;31m詳細については、Jupyter [ログ] (command:jupyter.viewOutput) を参照してください。"
     ]
    }
   ],
   "source": [
    "res = VisClient.main(sip_uuid)"
   ]
  },
  {
   "cell_type": "code",
   "execution_count": null,
   "metadata": {},
   "outputs": [
    {
     "data": {
      "text/html": [
       "<div>\n",
       "<style scoped>\n",
       "    .dataframe tbody tr th:only-of-type {\n",
       "        vertical-align: middle;\n",
       "    }\n",
       "\n",
       "    .dataframe tbody tr th {\n",
       "        vertical-align: top;\n",
       "    }\n",
       "\n",
       "    .dataframe thead th {\n",
       "        text-align: right;\n",
       "    }\n",
       "</style>\n",
       "<table border=\"1\" class=\"dataframe\">\n",
       "  <thead>\n",
       "    <tr style=\"text-align: right;\">\n",
       "      <th></th>\n",
       "      <th>amdsec_id</th>\n",
       "      <th>filepath</th>\n",
       "      <th>uuid</th>\n",
       "      <th>hashtype</th>\n",
       "      <th>hashvalue</th>\n",
       "      <th>bytes</th>\n",
       "      <th>format</th>\n",
       "      <th>version</th>\n",
       "      <th>puid</th>\n",
       "      <th>modified_date</th>\n",
       "      <th>fits_modified_unixtime</th>\n",
       "      <th>filename</th>\n",
       "      <th>size</th>\n",
       "      <th>modified_unix_timestamp</th>\n",
       "    </tr>\n",
       "  </thead>\n",
       "  <tbody>\n",
       "    <tr>\n",
       "      <th>0</th>\n",
       "      <td>amdSec_2</td>\n",
       "      <td>11ecf05d-8fc6-4704-a6e9-4a26ef98f186.jpg</td>\n",
       "      <td>bf99275c-c741-440e-95ba-9ef0f1dc583a</td>\n",
       "      <td>sha256</td>\n",
       "      <td>61d80c2f674ea5d074fe4ab59e03cadfaea8acfd97be42...</td>\n",
       "      <td>990011</td>\n",
       "      <td>Exchangeable Image File Format (Compressed)</td>\n",
       "      <td>2.2.1</td>\n",
       "      <td>&lt;a href=\"http://nationalarchives.gov.uk/PRONOM...</td>\n",
       "      <td>2025-04-22T21:41:32Z</td>\n",
       "      <td>1745358092000</td>\n",
       "      <td>11ecf05d-8fc6-4704-a6e9-4a26ef98f186.jpg</td>\n",
       "      <td>967 KB</td>\n",
       "      <td>2025-04-23T06:41:32</td>\n",
       "    </tr>\n",
       "  </tbody>\n",
       "</table>\n",
       "</div>"
      ],
      "text/plain": [
       "  amdsec_id                                  filepath  \\\n",
       "0  amdSec_2  11ecf05d-8fc6-4704-a6e9-4a26ef98f186.jpg   \n",
       "\n",
       "                                   uuid hashtype  \\\n",
       "0  bf99275c-c741-440e-95ba-9ef0f1dc583a   sha256   \n",
       "\n",
       "                                           hashvalue   bytes  \\\n",
       "0  61d80c2f674ea5d074fe4ab59e03cadfaea8acfd97be42...  990011   \n",
       "\n",
       "                                        format version  \\\n",
       "0  Exchangeable Image File Format (Compressed)   2.2.1   \n",
       "\n",
       "                                                puid         modified_date  \\\n",
       "0  <a href=\"http://nationalarchives.gov.uk/PRONOM...  2025-04-22T21:41:32Z   \n",
       "\n",
       "  fits_modified_unixtime                                  filename    size  \\\n",
       "0          1745358092000  11ecf05d-8fc6-4704-a6e9-4a26ef98f186.jpg  967 KB   \n",
       "\n",
       "  modified_unix_timestamp  \n",
       "0     2025-04-23T06:41:32  "
      ]
     },
     "execution_count": 24,
     "metadata": {},
     "output_type": "execute_result"
    },
    {
     "ename": "",
     "evalue": "",
     "output_type": "error",
     "traceback": [
      "\u001b[1;31mnotebook controller is DISPOSED. \n",
      "\u001b[1;31m詳細については、Jupyter [ログ] (command:jupyter.viewOutput) を参照してください。"
     ]
    },
    {
     "ename": "",
     "evalue": "",
     "output_type": "error",
     "traceback": [
      "\u001b[1;31mnotebook controller is DISPOSED. \n",
      "\u001b[1;31m詳細については、Jupyter [ログ] (command:jupyter.viewOutput) を参照してください。"
     ]
    }
   ],
   "source": [
    "res.get_original_files()"
   ]
  },
  {
   "cell_type": "code",
   "execution_count": null,
   "metadata": {},
   "outputs": [
    {
     "data": {
      "image/png": "[encoded data removed]",
      "text/plain": [
       "<Figure size 800x800 with 1 Axes>"
      ]
     },
     "metadata": {},
     "output_type": "display_data"
    },
    {
     "ename": "",
     "evalue": "",
     "output_type": "error",
     "traceback": [
      "\u001b[1;31mnotebook controller is DISPOSED. \n",
      "\u001b[1;31m詳細については、Jupyter [ログ] (command:jupyter.viewOutput) を参照してください。"
     ]
    },
    {
     "ename": "",
     "evalue": "",
     "output_type": "error",
     "traceback": [
      "\u001b[1;31mnotebook controller is DISPOSED. \n",
      "\u001b[1;31m詳細については、Jupyter [ログ] (command:jupyter.viewOutput) を参照してください。"
     ]
    }
   ],
   "source": [
    "res.visualize_file_format_counts()"
   ]
  },
  {
   "cell_type": "code",
   "execution_count": null,
   "metadata": {},
   "outputs": [
    {
     "data": {
      "image/png": "[encoded data removed]",
      "text/plain": [
       "<Figure size 1000x600 with 1 Axes>"
      ]
     },
     "metadata": {},
     "output_type": "display_data"
    },
    {
     "ename": "",
     "evalue": "",
     "output_type": "error",
     "traceback": [
      "\u001b[1;31mnotebook controller is DISPOSED. \n",
      "\u001b[1;31m詳細については、Jupyter [ログ] (command:jupyter.viewOutput) を参照してください。"
     ]
    },
    {
     "ename": "",
     "evalue": "",
     "output_type": "error",
     "traceback": [
      "\u001b[1;31mnotebook controller is DISPOSED. \n",
      "\u001b[1;31m詳細については、Jupyter [ログ] (command:jupyter.viewOutput) を参照してください。"
     ]
    }
   ],
   "source": [
    "res.visualize_file_events_count()"
   ]
  },
  {
   "cell_type": "code",
   "execution_count": null,
   "metadata": {},
   "outputs": [
    {
     "data": {
      "text/html": [
       "<div>\n",
       "<style scoped>\n",
       "    .dataframe tbody tr th:only-of-type {\n",
       "        vertical-align: middle;\n",
       "    }\n",
       "\n",
       "    .dataframe tbody tr th {\n",
       "        vertical-align: top;\n",
       "    }\n",
       "\n",
       "    .dataframe thead th {\n",
       "        text-align: right;\n",
       "    }\n",
       "</style>\n",
       "<table border=\"1\" class=\"dataframe\">\n",
       "  <thead>\n",
       "    <tr style=\"text-align: right;\">\n",
       "      <th></th>\n",
       "      <th>USE</th>\n",
       "      <th>File ID</th>\n",
       "      <th>Group ID</th>\n",
       "      <th>ADMID</th>\n",
       "      <th>File Location</th>\n",
       "      <th>LOCTYPE</th>\n",
       "      <th>OTHERLOCTYPE</th>\n",
       "    </tr>\n",
       "  </thead>\n",
       "  <tbody>\n",
       "    <tr>\n",
       "      <th>0</th>\n",
       "      <td>original</td>\n",
       "      <td>file-bf99275c-c741-440e-95ba-9ef0f1dc583a</td>\n",
       "      <td>Group-bf99275c-c741-440e-95ba-9ef0f1dc583a</td>\n",
       "      <td>amdSec_2</td>\n",
       "      <td>objects/11ecf05d-8fc6-4704-a6e9-4a26ef98f186.jpg</td>\n",
       "      <td>OTHER</td>\n",
       "      <td>SYSTEM</td>\n",
       "    </tr>\n",
       "    <tr>\n",
       "      <th>1</th>\n",
       "      <td>submissionDocumentation</td>\n",
       "      <td>file-cad590f5-5551-4046-bedf-5080ef60ac4b</td>\n",
       "      <td>Group-cad590f5-5551-4046-bedf-5080ef60ac4b</td>\n",
       "      <td>amdSec_5</td>\n",
       "      <td>objects/submissionDocumentation/transfer-kanaz...</td>\n",
       "      <td>OTHER</td>\n",
       "      <td>SYSTEM</td>\n",
       "    </tr>\n",
       "    <tr>\n",
       "      <th>2</th>\n",
       "      <td>preservation</td>\n",
       "      <td>file-9c9e3b7c-0a06-4ca6-b4fd-9ead85b2afef</td>\n",
       "      <td>Group-bf99275c-c741-440e-95ba-9ef0f1dc583a</td>\n",
       "      <td>amdSec_1</td>\n",
       "      <td>objects/11ecf05d-8fc6-4704-a6e9-4a26ef98f186-9...</td>\n",
       "      <td>OTHER</td>\n",
       "      <td>SYSTEM</td>\n",
       "    </tr>\n",
       "    <tr>\n",
       "      <th>3</th>\n",
       "      <td>metadata</td>\n",
       "      <td>file-3e7da001-d0c5-4d94-9fc6-8c90aa246b19</td>\n",
       "      <td>Group-3e7da001-d0c5-4d94-9fc6-8c90aa246b19</td>\n",
       "      <td>amdSec_4</td>\n",
       "      <td>objects/metadata/transfers/kanazawa-u_26572-11...</td>\n",
       "      <td>OTHER</td>\n",
       "      <td>SYSTEM</td>\n",
       "    </tr>\n",
       "    <tr>\n",
       "      <th>4</th>\n",
       "      <td>metadata</td>\n",
       "      <td>file-32ddceed-7453-4f59-8c96-aa272c0e53d3</td>\n",
       "      <td>Group-32ddceed-7453-4f59-8c96-aa272c0e53d3</td>\n",
       "      <td>amdSec_3</td>\n",
       "      <td>objects/metadata/transfers/kanazawa-u_26572-11...</td>\n",
       "      <td>OTHER</td>\n",
       "      <td>SYSTEM</td>\n",
       "    </tr>\n",
       "  </tbody>\n",
       "</table>\n",
       "</div>"
      ],
      "text/plain": [
       "                       USE                                    File ID  \\\n",
       "0                 original  file-bf99275c-c741-440e-95ba-9ef0f1dc583a   \n",
       "1  submissionDocumentation  file-cad590f5-5551-4046-bedf-5080ef60ac4b   \n",
       "2             preservation  file-9c9e3b7c-0a06-4ca6-b4fd-9ead85b2afef   \n",
       "3                 metadata  file-3e7da001-d0c5-4d94-9fc6-8c90aa246b19   \n",
       "4                 metadata  file-32ddceed-7453-4f59-8c96-aa272c0e53d3   \n",
       "\n",
       "                                     Group ID     ADMID  \\\n",
       "0  Group-bf99275c-c741-440e-95ba-9ef0f1dc583a  amdSec_2   \n",
       "1  Group-cad590f5-5551-4046-bedf-5080ef60ac4b  amdSec_5   \n",
       "2  Group-bf99275c-c741-440e-95ba-9ef0f1dc583a  amdSec_1   \n",
       "3  Group-3e7da001-d0c5-4d94-9fc6-8c90aa246b19  amdSec_4   \n",
       "4  Group-32ddceed-7453-4f59-8c96-aa272c0e53d3  amdSec_3   \n",
       "\n",
       "                                       File Location LOCTYPE OTHERLOCTYPE  \n",
       "0   objects/11ecf05d-8fc6-4704-a6e9-4a26ef98f186.jpg   OTHER       SYSTEM  \n",
       "1  objects/submissionDocumentation/transfer-kanaz...   OTHER       SYSTEM  \n",
       "2  objects/11ecf05d-8fc6-4704-a6e9-4a26ef98f186-9...   OTHER       SYSTEM  \n",
       "3  objects/metadata/transfers/kanazawa-u_26572-11...   OTHER       SYSTEM  \n",
       "4  objects/metadata/transfers/kanazawa-u_26572-11...   OTHER       SYSTEM  "
      ]
     },
     "execution_count": 27,
     "metadata": {},
     "output_type": "execute_result"
    },
    {
     "ename": "",
     "evalue": "",
     "output_type": "error",
     "traceback": [
      "\u001b[1;31mnotebook controller is DISPOSED. \n",
      "\u001b[1;31m詳細については、Jupyter [ログ] (command:jupyter.viewOutput) を参照してください。"
     ]
    },
    {
     "ename": "",
     "evalue": "",
     "output_type": "error",
     "traceback": [
      "\u001b[1;31mnotebook controller is DISPOSED. \n",
      "\u001b[1;31m詳細については、Jupyter [ログ] (command:jupyter.viewOutput) を参照してください。"
     ]
    }
   ],
   "source": [
    "res.parse_file_sec()"
   ]
  },
  {
   "cell_type": "code",
   "execution_count": null,
   "metadata": {},
   "outputs": [
    {
     "name": "stdout",
     "output_type": "stream",
     "text": [
      "StructMap (TYPE: physical, LABEL: Archivematica default)\n",
      "└── Directory: kanazawa-u_26572-494a4883-780c-4007-9c80-984504ca48f0\n",
      "    └── Directory: objects\n",
      "        ├── Item: 11ecf05d-8fc6-4704-a6e9-4a26ef98f186-9c9e3b7c-0a06-4ca6-b4fd-9ead85b2afef.tif\n",
      "        ├── Item: 11ecf05d-8fc6-4704-a6e9-4a26ef98f186.jpg\n",
      "        ├── Directory: submissionDocumentation\n",
      "        │   └── Directory: transfer-kanazawa-u_26572-1124a7f5-b7ed-4992-bf9f-09bdd4390ccd\n",
      "        │       └── Item: METS.xml\n",
      "        └── Directory: metadata\n",
      "            └── Directory: transfers\n",
      "                └── Directory: kanazawa-u_26572-1124a7f5-b7ed-4992-bf9f-09bdd4390ccd\n",
      "                    ├── Item: directory_tree.txt\n",
      "                    └── Item: metadata.csv\n",
      "StructMap (TYPE: logical, LABEL: Normative Directory Structure)\n",
      "└── Directory: kanazawa-u_26572-494a4883-780c-4007-9c80-984504ca48f0\n",
      "    └── Directory: objects\n",
      "        ├── Item: 11ecf05d-8fc6-4704-a6e9-4a26ef98f186-9c9e3b7c-0a06-4ca6-b4fd-9ead85b2afef.tif\n",
      "        ├── Item: 11ecf05d-8fc6-4704-a6e9-4a26ef98f186.jpg\n",
      "        ├── Directory: submissionDocumentation\n",
      "        │   └── Directory: transfer-kanazawa-u_26572-1124a7f5-b7ed-4992-bf9f-09bdd4390ccd\n",
      "        │       └── Item: METS.xml\n",
      "        └── Directory: metadata\n",
      "            └── Directory: transfers\n",
      "                └── Directory: kanazawa-u_26572-1124a7f5-b7ed-4992-bf9f-09bdd4390ccd\n",
      "                    ├── Item: directory_tree.txt\n",
      "                    └── Item: metadata.csv\n"
     ]
    },
    {
     "ename": "",
     "evalue": "",
     "output_type": "error",
     "traceback": [
      "\u001b[1;31mnotebook controller is DISPOSED. \n",
      "\u001b[1;31m詳細については、Jupyter [ログ] (command:jupyter.viewOutput) を参照してください。"
     ]
    },
    {
     "ename": "",
     "evalue": "",
     "output_type": "error",
     "traceback": [
      "\u001b[1;31mnotebook controller is DISPOSED. \n",
      "\u001b[1;31m詳細については、Jupyter [ログ] (command:jupyter.viewOutput) を参照してください。"
     ]
    }
   ],
   "source": [
    "res.visualize_structMap()"
   ]
  }
 ],
 "metadata": {
  "kernelspec": {
   "display_name": ".venv",
   "language": "python",
   "name": "python3"
  },
  "language_info": {
   "codemirror_mode": {
    "name": "ipython",
    "version": 3
   },
   "file_extension": ".py",
   "mimetype": "text/x-python",
   "name": "python",
   "nbconvert_exporter": "python",
   "pygments_lexer": "ipython3",
   "version": "3.11.8"
  }
 },
 "nbformat": 4,
 "nbformat_minor": 2
}
